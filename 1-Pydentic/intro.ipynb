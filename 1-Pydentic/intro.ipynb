{
 "cells": [
  {
   "cell_type": "code",
   "execution_count": 2,
   "id": "ae6171b2",
   "metadata": {},
   "outputs": [],
   "source": [
    "from pydantic import BaseModel"
   ]
  },
  {
   "cell_type": "code",
   "execution_count": null,
   "id": "383f57c0",
   "metadata": {},
   "outputs": [
    {
     "name": "stdout",
     "output_type": "stream",
     "text": [
      "Person(name='krish', age=35, city='Bangalore')\n"
     ]
    }
   ],
   "source": [
    "from dataclasses import dataclass\n",
    "\n",
    "@dataclass\n",
    "class Person():\n",
    "    name:str\n",
    "    age:int\n",
    "    city:str\n",
    "\n",
    "person=Person(name=\"krish\",age=35,city=\"Bangalore\")\n",
    "print(person)  \n",
    "\n",
    "## data validation not happaning"
   ]
  },
  {
   "cell_type": "code",
   "execution_count": 5,
   "id": "086b78eb",
   "metadata": {},
   "outputs": [
    {
     "name": "stdout",
     "output_type": "stream",
     "text": [
      "name='krish' age=35 city='Bangalore'\n"
     ]
    }
   ],
   "source": [
    "class Person(BaseModel):\n",
    "    name:str\n",
    "    age:int\n",
    "    city:str\n",
    "\n",
    "person=Person(name=\"krish\",age=35,city=\"Bangalore\")\n",
    "print(person)    "
   ]
  },
  {
   "cell_type": "code",
   "execution_count": null,
   "id": "9428193e",
   "metadata": {},
   "outputs": [],
   "source": [
    "#### 2. Model with optional Fields\n"
   ]
  },
  {
   "cell_type": "code",
   "execution_count": 7,
   "id": "dde1a275",
   "metadata": {},
   "outputs": [],
   "source": [
    "from typing import Optional\n",
    "\n",
    "class Employee(BaseModel):\n",
    "    id : int\n",
    "    name :str\n",
    "    department : str\n",
    "    salary : Optional[float] = None\n",
    "    is_active : Optional[bool] = True\n",
    "    "
   ]
  },
  {
   "cell_type": "code",
   "execution_count": 8,
   "id": "27bc1248",
   "metadata": {},
   "outputs": [
    {
     "name": "stdout",
     "output_type": "stream",
     "text": [
      "id=1 name='jhon' department='IT' salary=None is_active=True\n"
     ]
    }
   ],
   "source": [
    "emp1 = Employee(id=1,name=\"jhon\",department =\"IT\")\n",
    "print(emp1)"
   ]
  }
 ],
 "metadata": {
  "kernelspec": {
   "display_name": "Python 3",
   "language": "python",
   "name": "python3"
  },
  "language_info": {
   "codemirror_mode": {
    "name": "ipython",
    "version": 3
   },
   "file_extension": ".py",
   "mimetype": "text/x-python",
   "name": "python",
   "nbconvert_exporter": "python",
   "pygments_lexer": "ipython3",
   "version": "3.12.0"
  }
 },
 "nbformat": 4,
 "nbformat_minor": 5
}
